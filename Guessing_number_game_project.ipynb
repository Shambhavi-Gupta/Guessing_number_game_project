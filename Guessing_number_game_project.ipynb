{
  "nbformat": 4,
  "nbformat_minor": 0,
  "metadata": {
    "colab": {
      "name": "Guessing_number_game_project.ipynb",
      "provenance": [],
      "authorship_tag": "ABX9TyOiqSeA4YiQAeR3O9RuKJLG",
      "include_colab_link": true
    },
    "kernelspec": {
      "name": "python3",
      "display_name": "Python 3"
    },
    "language_info": {
      "name": "python"
    }
  },
  "cells": [
    {
      "cell_type": "markdown",
      "metadata": {
        "id": "view-in-github",
        "colab_type": "text"
      },
      "source": [
        "<a href=\"https://colab.research.google.com/github/Shambhavi-Gupta/Guessing_number_game_project/blob/main/Guessing_number_game_project.ipynb\" target=\"_parent\"><img src=\"https://colab.research.google.com/assets/colab-badge.svg\" alt=\"Open In Colab\"/></a>"
      ]
    },
    {
      "cell_type": "code",
      "metadata": {
        "id": "Zky-zVDb-s0R"
      },
      "source": [
        "import random\n",
        "# to create a range of random numbers between 1-20\n",
        "n = random.randrange(1,20)\n",
        "guess_value = int(input(\"Enter any number : \"))\n",
        "while n != guess_value:\n",
        "    # if guess_value is smaller than n\n",
        "    if guess_value < n:\n",
        "        # ask user for input\n",
        "        print(\"Too much low\")\n",
        "        guess_value = int(input(\"Enter any other number : \"))\n",
        "\n",
        "    # if guess_value is greater than n\n",
        "    elif guess_value > n:\n",
        "        print(\"Too much far\")\n",
        "        # ask user for input\n",
        "        guess_value = int(input(\"Enter any other number : \"))\n",
        "\n",
        "    # if guess_value and n value are equal to eachother\n",
        "    else:\n",
        "        break\n",
        "\n",
        "print(\"Hurray !! You guessed the correct value\")"
      ],
      "execution_count": null,
      "outputs": []
    }
  ]
}